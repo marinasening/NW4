{
 "cells": [
  {
   "cell_type": "code",
   "execution_count": 359,
   "metadata": {},
   "outputs": [],
   "source": [
    "documents = [\n",
    " {'type': 'passport', 'number': '2207 876234', 'name': 'Василий Гупкин'},\n",
    " {'type': 'invoice', 'number': '11-2', 'name': 'Геннадий Покемонов'},\n",
    " {'type': 'insurance', 'number': '10006', 'name': 'Аристарх Павлов'}\n",
    "]\n",
    "directories = {\n",
    " '1': ['2207 876234', '11-2'],\n",
    " '2': ['10006'],\n",
    " '3': []\n",
    "}"
   ]
  },
  {
   "cell_type": "code",
   "execution_count": 351,
   "metadata": {},
   "outputs": [
    {
     "name": "stdout",
     "output_type": "stream",
     "text": [
      "Введите номер документа:\n",
      "10006\n",
      "Владелец документа:  Аристарх Павлов\n"
     ]
    }
   ],
   "source": [
    "# Узнать владельца документа:\n",
    "\n",
    "def name_person(doc_number_input):\n",
    "    doc_number_input = input('Введите номер документа:\\n')\n",
    "    my_flag = False\n",
    "    for person in documents:\n",
    "        if person['number'] == doc_number_input:\n",
    "            my_flag = True\n",
    "            print('Владелец документа: ', person['name'])\n",
    "    if my_flag == False:\n",
    "            print('Документ не найден')\n",
    "name_person(doc_number_input)"
   ]
  },
  {
   "cell_type": "code",
   "execution_count": 358,
   "metadata": {},
   "outputs": [
    {
     "name": "stdout",
     "output_type": "stream",
     "text": [
      "Введите номер докумена:\n",
      "10006\n",
      "Результат:\n",
      "Документ хранится на полке: 2\n"
     ]
    }
   ],
   "source": [
    "# Узнать номер полки, на которой хранится документ:\n",
    "\n",
    "def number_directories(doc_number_directories):\n",
    "    my_flag2 = False\n",
    "    doc_number_directories = input('Введите номер докумена:\\n')\n",
    "    for key, value in directories.items():\n",
    "        if doc_number_directories in value:\n",
    "            my_flag2 - True\n",
    "            print('Результат:\\nДокумент хранится на полке:', key)\n",
    "            return\n",
    "    if my_flag2 == False:\n",
    "            print('Документ не найден')\n",
    "            return\n",
    "        \n",
    "number_directories(doc_number_directories)"
   ]
  },
  {
   "cell_type": "code",
   "execution_count": 302,
   "metadata": {},
   "outputs": [
    {
     "name": "stdout",
     "output_type": "stream",
     "text": [
      "№: 2207 876234, тип: passport, владелец: Василий Гупкин, полка: 1\n",
      "№: 11-2, тип: invoice, владелец: Геннадий Покемонов, полка: 1\n",
      "№: 10006, тип: insurance, владелец: Аристарх Павлов, полка: 2\n"
     ]
    }
   ],
   "source": [
    "#Вся инфа по документам:\n",
    "\n",
    "def all_info (documents):\n",
    "    for i in documents:\n",
    "        union = i['number']\n",
    "        for key, value in directories.items():\n",
    "            if union in value:\n",
    "                print('№: ' + str(i['number']) + ', тип: ' + str(i['type']) + ', владелец: ' + str(i['name']) + ', полка:', key)\n",
    "all_info(documents)        "
   ]
  },
  {
   "cell_type": "code",
   "execution_count": 345,
   "metadata": {},
   "outputs": [
    {
     "name": "stdout",
     "output_type": "stream",
     "text": [
      "Введите номер полки:\n",
      "1\n",
      "Такая полка уже существует. Текущий перечень полок:  1, 2, 5, , 78, 34, 3, 4\n"
     ]
    }
   ],
   "source": [
    "#Добавить новую полку:\n",
    "\n",
    "def new_directory(directories_input):\n",
    "    directories_input = input('Введите номер полки:\\n')\n",
    "    if directories_input in directories:\n",
    "        directories.setdefault(directories_input)\n",
    "        print('Такая полка уже существует. Текущий перечень полок: ',', '.join(directories.keys()))\n",
    "        return\n",
    "    else:\n",
    "        directories[directories_input] = []\n",
    "        print('Полка добавлена. Текущий перечень полок: ',', '.join(directories.keys()))\n",
    "        return\n",
    "new_directory(directories_input)"
   ]
  },
  {
   "cell_type": "code",
   "execution_count": 344,
   "metadata": {},
   "outputs": [
    {
     "name": "stdout",
     "output_type": "stream",
     "text": [
      "Введите номер полки: 1\n",
      "На полке есть документы. Удалите их\n"
     ]
    }
   ],
   "source": [
    "#Удалить полку:\n",
    "\n",
    "def remote_shelf(directories_input_dell):\n",
    "    directories_input_dell = input('Введите номер полки:\\n')\n",
    "    if directories_input_dell in directories.keys() and len(directories[directories_input_dell]) > 0:\n",
    "        print('На полке есть документы. Удалите их')\n",
    "    elif directories_input_dell in directories.keys() and len(directories[directories_input_dell]) == 0:\n",
    "        del(directories[directories_input_dell])\n",
    "        print('Полка удалена')\n",
    "    elif directories_input_dell not in directories.keys():\n",
    "        print('Такой полки не существует')\n",
    "remote_shelf(directories_input_dell)"
   ]
  },
  {
   "cell_type": "markdown",
   "metadata": {},
   "source": [
    "# Конечный код:"
   ]
  },
  {
   "cell_type": "code",
   "execution_count": null,
   "metadata": {},
   "outputs": [],
   "source": [
    "input_comand = input('Введите команду:\\n')\n",
    "if input_comand == 'p':\n",
    "    print(name_person(doc_number_input))\n",
    "elif input_comand == 's':\n",
    "    print(number_directories(doc_number_directories))\n",
    "elif input_comand == 'l':\n",
    "    print(all_info (documents))\n",
    "elif input_comand == 'ads':\n",
    "    print(new_directory(directories_input))\n",
    "elif input_comand == 'ds':\n",
    "    print(remote_shelf(directories_input_dell))"
   ]
  }
 ],
 "metadata": {
  "kernelspec": {
   "display_name": "Python 3",
   "language": "python",
   "name": "python3"
  },
  "language_info": {
   "codemirror_mode": {
    "name": "ipython",
    "version": 3
   },
   "file_extension": ".py",
   "mimetype": "text/x-python",
   "name": "python",
   "nbconvert_exporter": "python",
   "pygments_lexer": "ipython3",
   "version": "3.8.5"
  }
 },
 "nbformat": 4,
 "nbformat_minor": 4
}
