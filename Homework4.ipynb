{
 "cells": [
  {
   "cell_type": "code",
   "execution_count": 2,
   "metadata": {},
   "outputs": [],
   "source": [
    "documents = [\n",
    " {'type': 'passport', 'number': '2207 876234', 'name': 'Василий Гупкин'},\n",
    " {'type': 'invoice', 'number': '11-2', 'name': 'Геннадий Покемонов'},\n",
    " {'type': 'insurance', 'number': '10006', 'name': 'Аристарх Павлов'}\n",
    "]\n",
    "directories = {\n",
    " '1': ['2207 876234', '11-2'],\n",
    " '2': ['10006'],\n",
    " '3': []\n",
    "}"
   ]
  },
  {
   "cell_type": "code",
   "execution_count": 25,
   "metadata": {},
   "outputs": [
    {
     "name": "stdout",
     "output_type": "stream",
     "text": [
      "Введите номер документа:\n",
      "10006\n",
      "Владелец документа:\n",
      " Аристарх Павлов\n"
     ]
    }
   ],
   "source": [
    "# Узнать владельца документа:\n",
    "\n",
    "def name_person(document):\n",
    "    doc_number_input = input('Введите номер документа:\\n')\n",
    "    my_flag = False\n",
    "    for person in documents:\n",
    "        if person['number'] == doc_number_input:\n",
    "            my_flag = True\n",
    "            print('Владелец документа:\\n', person['name'])\n",
    "    if my_flag == False:\n",
    "            print('Документ не найден')\n",
    "        \n",
    "name_person(documents)"
   ]
  },
  {
   "cell_type": "code",
   "execution_count": 26,
   "metadata": {},
   "outputs": [
    {
     "name": "stdout",
     "output_type": "stream",
     "text": [
      "Введите номер документа:\n",
      "10006\n",
      "Результат:\n",
      "Документ хранится на полке: 2\n"
     ]
    }
   ],
   "source": [
    "#Узнать номер полки, на которой хранится документ\n",
    "def number_shelf(directory):\n",
    "    my_flag2 = False\n",
    "    doc_number_directories = input('Введите номер документа:\\n')\n",
    "    for key, value in directories.items():\n",
    "        if doc_number_directories in value:\n",
    "            my_flag2 = True\n",
    "            print('Результат:\\nДокумент хранится на полке:', key)\n",
    "            break\n",
    "    if my_flag2 == False:\n",
    "        print('Документ не найден')\n",
    "\n",
    "number_shelf(directories)"
   ]
  },
  {
   "cell_type": "code",
   "execution_count": 29,
   "metadata": {},
   "outputs": [
    {
     "name": "stdout",
     "output_type": "stream",
     "text": [
      "№: 2207 876234, тип: passport, владелец: Василий Гупкин, полка: 1\n",
      "№: 11-2, тип: invoice, владелец: Геннадий Покемонов, полка: 1\n",
      "№: 10006, тип: insurance, владелец: Аристарх Павлов, полка: 2\n"
     ]
    }
   ],
   "source": [
    "#Вся инфа по документам:\n",
    "\n",
    "def all_info (document, directory):\n",
    "    for i in documents:\n",
    "        union = i['number']\n",
    "        for key, value in directories.items():\n",
    "            if union in value:\n",
    "                print('№: ' + str(i['number']) + ', тип: ' + str(i['type']) + ', владелец: ' + str(i['name']) + ', полка:', key)\n",
    "\n",
    "all_info(documents, directories)        "
   ]
  },
  {
   "cell_type": "code",
   "execution_count": 30,
   "metadata": {},
   "outputs": [
    {
     "name": "stdout",
     "output_type": "stream",
     "text": [
      "Введите номер полки:\n",
      "2\n",
      "Такая полка уже существует. Текущий перечень полок:  1, 2, 4\n"
     ]
    }
   ],
   "source": [
    "#Добавить новую полку:\n",
    "\n",
    "def new_directory(directory):\n",
    "    directories_input = input('Введите номер полки:\\n')\n",
    "    if directories_input in directories:\n",
    "        directories.setdefault(directories_input)\n",
    "        print('Такая полка уже существует. Текущий перечень полок: ',', '.join(directories.keys()))\n",
    "    else:\n",
    "        directories[directories_input] = []\n",
    "        print('Полка добавлена. Текущий перечень полок: ',', '.join(directories.keys()))\n",
    "\n",
    "new_directory(directories)"
   ]
  },
  {
   "cell_type": "code",
   "execution_count": 33,
   "metadata": {},
   "outputs": [
    {
     "name": "stdout",
     "output_type": "stream",
     "text": [
      "Введите номер полки:\n",
      "1\n",
      "На полке есть документы. Удалите их\n"
     ]
    }
   ],
   "source": [
    "#Удалить полку:\n",
    "\n",
    "def remote_shelf(directory):\n",
    "    directories_input_dell = input('Введите номер полки:\\n')\n",
    "    if directories_input_dell in directories.keys() and len(directories[directories_input_dell]) > 0:\n",
    "        print('На полке есть документы. Удалите их')\n",
    "    elif directories_input_dell in directories.keys() and len(directories[directories_input_dell]) == 0:\n",
    "        del(directories[directories_input_dell])\n",
    "        print('Полка удалена')\n",
    "    elif directories_input_dell not in directories.keys():\n",
    "        print('Такой полки не существует')\n",
    "        \n",
    "remote_shelf(directories)"
   ]
  },
  {
   "cell_type": "code",
   "execution_count": 36,
   "metadata": {},
   "outputs": [
    {
     "name": "stdout",
     "output_type": "stream",
     "text": [
      "Введите команду:\n",
      "p\n",
      "Введите номер документа:\n",
      "11-2\n",
      "Владелец документа:\n",
      " Геннадий Покемонов\n",
      "Введите команду:\n",
      "s\n",
      "Введите номер документа:\n",
      "10006\n",
      "Результат:\n",
      "Документ хранится на полке: 2\n",
      "Введите команду:\n",
      "l\n",
      "№: 2207 876234, тип: passport, владелец: Василий Гупкин, полка: 1\n",
      "№: 11-2, тип: invoice, владелец: Геннадий Покемонов, полка: 1\n",
      "№: 10006, тип: insurance, владелец: Аристарх Павлов, полка: 2\n",
      "Введите команду:\n",
      "ads\n",
      "Введите номер полки:\n",
      "2\n",
      "Такая полка уже существует. Текущий перечень полок:  1, 2, 4\n",
      "Введите команду:\n",
      "ds\n",
      "Введите номер полки:\n",
      "1\n",
      "На полке есть документы. Удалите их\n"
     ]
    }
   ],
   "source": [
    "#Главная функция:\n",
    "\n",
    "def main(document, directory):\n",
    "    while True:\n",
    "        input_comand = input('Введите команду:\\n')\n",
    "        if input_comand == 'p':\n",
    "            name_person(document)\n",
    "        elif input_comand == 's':\n",
    "            number_shelf(directory)\n",
    "        elif input_comand == 'l':\n",
    "            all_info (document, directory)\n",
    "        elif input_comand == 'ads':\n",
    "            new_directory(directory)\n",
    "        elif input_comand == 'ds':\n",
    "            remote_shelf(directory)\n",
    "            break\n",
    "\n",
    "main(documents, directories)             "
   ]
  }
 ],
 "metadata": {
  "kernelspec": {
   "display_name": "Python 3",
   "language": "python",
   "name": "python3"
  },
  "language_info": {
   "codemirror_mode": {
    "name": "ipython",
    "version": 3
   },
   "file_extension": ".py",
   "mimetype": "text/x-python",
   "name": "python",
   "nbconvert_exporter": "python",
   "pygments_lexer": "ipython3",
   "version": "3.8.5"
  }
 },
 "nbformat": 4,
 "nbformat_minor": 4
}
